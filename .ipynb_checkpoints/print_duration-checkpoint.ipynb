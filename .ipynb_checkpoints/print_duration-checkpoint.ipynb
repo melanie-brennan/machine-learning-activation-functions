{
 "cells": [
  {
   "cell_type": "markdown",
   "metadata": {},
   "source": [
    "## Function print_duration(start_time, end_time)\n",
    "\n",
    "\n",
    "This function prints the duration between \"start_time\" and \"end_time\" measured in seconds, minutes and hours."
   ]
  },
  {
   "cell_type": "markdown",
   "metadata": {},
   "source": [
    "### Import libraries"
   ]
  },
  {
   "cell_type": "code",
   "execution_count": 76,
   "metadata": {},
   "outputs": [],
   "source": [
    "import time"
   ]
  },
  {
   "cell_type": "markdown",
   "metadata": {},
   "source": [
    "### Define the function"
   ]
  },
  {
   "cell_type": "code",
   "execution_count": 77,
   "metadata": {},
   "outputs": [],
   "source": [
    "def print_duration(start_time, end_time):\n",
    "    \"\"\"\n",
    "    Prints the duration between start_time and end_time in seconds, minutes and hours.\n",
    "    :param start_time: start \n",
    "    :param end_time: The ageof foo\n",
    "    :return: returns nothing\n",
    "    \"\"\"\n",
    "\n",
    "    # Calculate the time in various units\n",
    "    seconds = end_time - start_time\n",
    "    minutes = seconds / 60.0\n",
    "    hours = minutes / 60.0\n",
    "\n",
    "    # Print the results\n",
    "    print(\"\\nTime taken with various units:\")\n",
    "    print(\"Seconds: \", seconds)\n",
    "    print(\"Minutes: \", minutes)\n",
    "    print(\"Hours:   \", hours)"
   ]
  },
  {
   "cell_type": "markdown",
   "metadata": {},
   "source": [
    "### Use the function - example 1"
   ]
  },
  {
   "cell_type": "code",
   "execution_count": 78,
   "metadata": {},
   "outputs": [
    {
     "name": "stdout",
     "output_type": "stream",
     "text": [
      "\n",
      "Time taken with various units:\n",
      "Seconds:  1.0140378999999484\n",
      "Minutes:  0.01690063166666581\n",
      "Hours:    0.00028167719444443016\n"
     ]
    }
   ],
   "source": [
    "# Define start time\n",
    "start_time = time.perf_counter()\n",
    "\n",
    "# Place the code to be timed here.  The example below sleeps for 1 second\n",
    "time.sleep(1.0)\n",
    "\n",
    "# Define end time\n",
    "end_time = time.perf_counter()\n",
    "\n",
    "# Call the function\n",
    "print_duration(start_time, end_time)"
   ]
  },
  {
   "cell_type": "markdown",
   "metadata": {},
   "source": [
    "### Use the function - example 2"
   ]
  },
  {
   "cell_type": "code",
   "execution_count": 79,
   "metadata": {},
   "outputs": [
    {
     "name": "stdout",
     "output_type": "stream",
     "text": [
      "\n",
      "Time taken with various units:\n",
      "Seconds:  5.8600000102160266e-05\n",
      "Minutes:  9.766666683693378e-07\n",
      "Hours:    1.627777780615563e-08\n"
     ]
    }
   ],
   "source": [
    "# Define start time\n",
    "start_time = time.perf_counter()\n",
    "\n",
    "# Place the code to be timed here.  The example below iterates through to 100\n",
    "for i in range(100):\n",
    "    pass\n",
    "\n",
    "# Define end time    \n",
    "end_time = time.perf_counter()\n",
    "\n",
    "#Call the function\n",
    "print_duration(start_time, end_time)"
   ]
  }
 ],
 "metadata": {
  "kernelspec": {
   "display_name": "Python 3",
   "language": "python",
   "name": "python3"
  },
  "language_info": {
   "codemirror_mode": {
    "name": "ipython",
    "version": 3
   },
   "file_extension": ".py",
   "mimetype": "text/x-python",
   "name": "python",
   "nbconvert_exporter": "python",
   "pygments_lexer": "ipython3",
   "version": "3.7.6"
  }
 },
 "nbformat": 4,
 "nbformat_minor": 4
}
